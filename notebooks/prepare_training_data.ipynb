{
 "cells": [
  {
   "cell_type": "code",
   "execution_count": 1,
   "id": "ee48e7fc",
   "metadata": {},
   "outputs": [
    {
     "name": "stdout",
     "output_type": "stream",
     "text": [
      "Training data CSV created for company_law: ../data/subdomains/company_law\\train.csv\n",
      "Training data CSV created for tax_law: ../data/subdomains/tax_law\\train.csv\n",
      "Training data CSV created for banking_law: ../data/subdomains/banking_law\\train.csv\n",
      "Training data CSV created for securities_law: ../data/subdomains/securities_law\\train.csv\n",
      "Training data CSV created for insolvency_law: ../data/subdomains/insolvency_law\\train.csv\n",
      "Training data CSV created for contract_law: ../data/subdomains/contract_law\\train.csv\n",
      "Training data CSV created for negotiable_instruments_law: ../data/subdomains/negotiable_instruments_law\\train.csv\n",
      "Training data CSV created for consumer_law: ../data/subdomains/consumer_law\\train.csv\n",
      "Training data CSV created for ip_law: ../data/subdomains/ip_law\\train.csv\n",
      "Training data CSV created for arbitration_law: ../data/subdomains/arbitration_law\\train.csv\n",
      "Training data CSV created for trust_law: ../data/subdomains/trust_law\\train.csv\n",
      "Training data CSV created for electronic_transactions_law: ../data/subdomains/electronic_transactions_law\\train.csv\n",
      "Training data CSV created for foreign_exchange_law: ../data/subdomains/foreign_exchange_law\\train.csv\n"
     ]
    }
   ],
   "source": [
    "# This script prepares training data for a legal document classification task.\n",
    "# It reads text files and their corresponding embeddings from subdomain folders,\n",
    "\n",
    "import os\n",
    "import pandas as pd\n",
    "\n",
    "# Base directory for subdomains\n",
    "base_dir = \"../data/subdomains/\"\n",
    "\n",
    "# List all subdomain folders\n",
    "subdomains = [\n",
    "    \"company_law\", \"tax_law\", \"banking_law\", \"securities_law\", \"insolvency_law\",\n",
    "    \"contract_law\", \"negotiable_instruments_law\", \"consumer_law\", \"ip_law\",\n",
    "    \"arbitration_law\", \"trust_law\", \"electronic_transactions_law\", \"foreign_exchange_law\"\n",
    "]\n",
    "\n",
    "def prepare_training_data():\n",
    "    for subdomain in subdomains:\n",
    "        folder = os.path.join(base_dir, subdomain)\n",
    "        data = []\n",
    "        for fname in os.listdir(folder):\n",
    "            if fname.endswith(\".embedding.npy\"):\n",
    "                # Corresponding cleaned text file\n",
    "                text_file = fname.replace(\".embedding.npy\", \".cleaned.txt\")\n",
    "                text_path = os.path.join(folder, text_file)\n",
    "                embedding_path = os.path.join(folder, fname)\n",
    "                # Read text\n",
    "                with open(text_path, \"r\", encoding=\"utf-8\") as f:\n",
    "                    text = f.read()\n",
    "                # Label is the subdomain name\n",
    "                label = subdomain\n",
    "                data.append({\n",
    "                    \"text\": text,\n",
    "                    \"embedding_path\": embedding_path,\n",
    "                    \"label\": label\n",
    "                })\n",
    "        # Create DataFrame and save as CSV\n",
    "        df = pd.DataFrame(data)\n",
    "        csv_path = os.path.join(folder, \"train.csv\")\n",
    "        df.to_csv(csv_path, index=False)\n",
    "        print(f\"Training data CSV created for {subdomain}: {csv_path}\")\n",
    "\n",
    "prepare_training_data()"
   ]
  }
 ],
 "metadata": {
  "kernelspec": {
   "display_name": ".venv",
   "language": "python",
   "name": "python3"
  },
  "language_info": {
   "codemirror_mode": {
    "name": "ipython",
    "version": 3
   },
   "file_extension": ".py",
   "mimetype": "text/x-python",
   "name": "python",
   "nbconvert_exporter": "python",
   "pygments_lexer": "ipython3",
   "version": "3.13.5"
  }
 },
 "nbformat": 4,
 "nbformat_minor": 5
}
