{
 "cells": [
  {
   "cell_type": "code",
   "execution_count": 2,
   "id": "6db5e4ef",
   "metadata": {},
   "outputs": [],
   "source": [
    "from sentence_transformers import SentenceTransformer\n",
    "import numpy as np\n",
    "import os\n",
    "\n",
    "model = SentenceTransformer('all-MiniLM-L6-v2')\n",
    "base_dir = \"../data/subdomains/\"\n",
    "subdomains = os.listdir(base_dir)\n",
    "\n",
    "for subdomain in subdomains:\n",
    "    folder = os.path.join(base_dir, subdomain)\n",
    "    for fname in os.listdir(folder):\n",
    "        if fname.endswith(\".cleaned.txt\"):\n",
    "            with open(os.path.join(folder, fname), \"r\", encoding=\"utf-8\") as f:\n",
    "                text = f.read()\n",
    "            embedding = model.encode([text])[0]\n",
    "            np.save(os.path.join(folder, fname.replace(\".cleaned.txt\", \".embedding.npy\")), embedding)"
   ]
  }
 ],
 "metadata": {
  "kernelspec": {
   "display_name": ".venv",
   "language": "python",
   "name": "python3"
  },
  "language_info": {
   "codemirror_mode": {
    "name": "ipython",
    "version": 3
   },
   "file_extension": ".py",
   "mimetype": "text/x-python",
   "name": "python",
   "nbconvert_exporter": "python",
   "pygments_lexer": "ipython3",
   "version": "3.13.5"
  }
 },
 "nbformat": 4,
 "nbformat_minor": 5
}
