{
 "cells": [
  {
   "cell_type": "code",
   "execution_count": 1,
   "id": "bd24249a",
   "metadata": {},
   "outputs": [
    {
     "name": "stdout",
     "output_type": "stream",
     "text": [
      "Embedding saved: ../data/subdomains/company_law\\01. Companies Act No. 7 of 2007.embedding.npy\n",
      "Embedding saved: ../data/subdomains/tax_law\\02. Inland Revenue Act_No_24_2017_E.embedding.npy\n",
      "Embedding saved: ../data/subdomains/tax_law\\03. Inland Revenue (Amendment) Act No. 2 of 2025.embedding.npy\n",
      "Embedding saved: ../data/subdomains/banking_law\\04. Banking Act 30_1988.embedding.npy\n",
      "Embedding saved: ../data/subdomains/banking_law\\05. Banking_Amendment_Act_No_24_of_2024_e.embedding.npy\n",
      "Embedding saved: ../data/subdomains/banking_law\\06. Banking (Special Provisions) Act, No. 17 of 2023.embedding.npy\n",
      "Embedding saved: ../data/subdomains/securities_law\\07. Securities and Exchange Commission of Sri Lanka.embedding.npy\n",
      "Embedding saved: ../data/subdomains/insolvency_law\\08. INSOLVENTS [Cap.103 - Lanka Law.embedding.npy\n",
      "Embedding saved: ../data/subdomains/contract_law\\09. Sale_of_Goods_Ordinance_No_11_of_1896_of.embedding.npy\n",
      "Embedding saved: ../data/subdomains/negotiable_instruments_law\\10. Bills of Exchanger Ordinance.embedding.npy\n",
      "Embedding saved: ../data/subdomains/negotiable_instruments_law\\11. BILLS OF EXCHANGE (AMENDMENT).embedding.npy\n",
      "Embedding saved: ../data/subdomains/consumer_law\\12. Consumer Affairs Authority Act No 9 of 2003.embedding.npy\n",
      "Embedding saved: ../data/subdomains/ip_law\\13. Intellectual_Property_Act_No_36_of_2003.embedding.npy\n",
      "Embedding saved: ../data/subdomains/arbitration_law\\14. ARBITRATION-ACT No 11 of 1995.embedding.npy\n",
      "Embedding saved: ../data/subdomains/trust_law\\16. Trust Ordinance.embedding.npy\n",
      "Embedding saved: ../data/subdomains/electronic_transactions_law\\17. ElectronicTransactionActNo19of2006.embedding.npy\n",
      "Embedding saved: ../data/subdomains/foreign_exchange_law\\18. Foreign Exchange ACT NO 12 of 2017.embedding.npy\n"
     ]
    }
   ],
   "source": [
    "# # This script generates embeddings for legal documents in various subdomains using the SentenceTransformer model.\n",
    "# It reads cleaned text files, generates embeddings, and saves them as .npy files.\n",
    "\n",
    "import os\n",
    "import numpy as np\n",
    "from sentence_transformers import SentenceTransformer\n",
    "\n",
    "# Load the embedding model\n",
    "model = SentenceTransformer('all-MiniLM-L6-v2')\n",
    "\n",
    "# List of subdomain folders\n",
    "subdomains = [\n",
    "    \"company_law\", \"tax_law\", \"banking_law\", \"securities_law\", \"insolvency_law\",\n",
    "    \"contract_law\", \"negotiable_instruments_law\", \"consumer_law\", \"ip_law\",\n",
    "    \"arbitration_law\", \"trust_law\", \"electronic_transactions_law\", \"foreign_exchange_law\"\n",
    "]\n",
    "\n",
    "base_dir = \"../data/subdomains/\"\n",
    "\n",
    "for subdomain in subdomains:\n",
    "    folder = os.path.join(base_dir, subdomain)\n",
    "    for fname in os.listdir(folder):\n",
    "        if fname.endswith(\".cleaned.txt\"):\n",
    "            file_path = os.path.join(folder, fname)\n",
    "            with open(file_path, \"r\", encoding=\"utf-8\") as f:\n",
    "                text = f.read()\n",
    "            # Generate embedding\n",
    "            embedding = model.encode([text])[0]\n",
    "            # Save embedding as .npy file\n",
    "            npy_path = file_path.replace(\".cleaned.txt\", \".embedding.npy\")\n",
    "            np.save(npy_path, embedding)\n",
    "            print(f\"Embedding saved: {npy_path}\")\n"
   ]
  }
 ],
 "metadata": {
  "kernelspec": {
   "display_name": ".venv",
   "language": "python",
   "name": "python3"
  },
  "language_info": {
   "codemirror_mode": {
    "name": "ipython",
    "version": 3
   },
   "file_extension": ".py",
   "mimetype": "text/x-python",
   "name": "python",
   "nbconvert_exporter": "python",
   "pygments_lexer": "ipython3",
   "version": "3.13.5"
  }
 },
 "nbformat": 4,
 "nbformat_minor": 5
}
