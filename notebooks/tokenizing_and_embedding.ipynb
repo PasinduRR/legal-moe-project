{
 "cells": [
  {
   "cell_type": "code",
   "execution_count": 3,
   "id": "aff91d1f",
   "metadata": {},
   "outputs": [],
   "source": [
    "import spacy\n",
    "import os\n",
    "import pandas as pd\n",
    "\n",
    "nlp = spacy.load(\"en_core_web_sm\")\n",
    "base_dir = \"../data/subdomains/\"\n",
    "subdomains = os.listdir(base_dir)\n",
    "\n",
    "for subdomain in subdomains:\n",
    "    folder = os.path.join(base_dir, subdomain)\n",
    "    for fname in os.listdir(folder):\n",
    "        if fname.endswith(\".cleaned.txt\"):\n",
    "            file_path = os.path.join(folder, fname)\n",
    "            with open(file_path, \"r\", encoding=\"utf-8\") as f:\n",
    "                text = f.read()\n",
    "            doc = nlp(text)\n",
    "            tokens = [token.text for token in doc if not token.is_stop and not token.is_punct]\n",
    "            sentences = [sent.text.strip() for sent in doc.sents]\n",
    "            entities = [(ent.text, ent.label_) for ent in doc.ents]\n",
    "            # Save tokens\n",
    "            with open(file_path.replace(\".cleaned.txt\", \".tokens.txt\"), \"w\", encoding=\"utf-8\") as f:\n",
    "                f.write(\" \".join(tokens))\n",
    "            # Save sentences\n",
    "            with open(file_path.replace(\".cleaned.txt\", \".sentences.txt\"), \"w\", encoding=\"utf-8\") as f:\n",
    "                f.write(\"\\n\".join(sentences))\n",
    "            # Save entities\n",
    "            pd.DataFrame(entities, columns=[\"entity\", \"label\"]).to_csv(file_path.replace(\".cleaned.txt\", \".entities.csv\"), index=False)\n"
   ]
  },
  {
   "cell_type": "code",
   "execution_count": 4,
   "id": "779f87ce",
   "metadata": {},
   "outputs": [],
   "source": [
    "from sentence_transformers import SentenceTransformer\n",
    "import numpy as np\n",
    "\n",
    "model = SentenceTransformer('all-MiniLM-L6-v2')\n",
    "for subdomain in subdomains:\n",
    "    folder = os.path.join(base_dir, subdomain)\n",
    "    for fname in os.listdir(folder):\n",
    "        if fname.endswith(\".cleaned.txt\"):\n",
    "            with open(os.path.join(folder, fname), \"r\", encoding=\"utf-8\") as f:\n",
    "                text = f.read()\n",
    "            embedding = model.encode([text])[0]\n",
    "            np.save(os.path.join(folder, fname.replace(\".cleaned.txt\", \".embedding.npy\")), embedding)\n"
   ]
  },
  {
   "cell_type": "code",
   "execution_count": 5,
   "id": "c6c3705f",
   "metadata": {},
   "outputs": [],
   "source": [
    "for subdomain in subdomains:\n",
    "    folder = os.path.join(base_dir, subdomain)\n",
    "    data = []\n",
    "    for fname in os.listdir(folder):\n",
    "        if fname.endswith(\".embedding.npy\"):\n",
    "            text_file = fname.replace(\".embedding.npy\", \".cleaned.txt\")\n",
    "            text_path = os.path.join(folder, text_file)\n",
    "            embedding_path = os.path.join(folder, fname)\n",
    "            with open(text_path, \"r\", encoding=\"utf-8\") as f:\n",
    "                text = f.read()\n",
    "            data.append({\n",
    "                \"text\": text,\n",
    "                \"embedding_path\": embedding_path,\n",
    "                \"label\": subdomain\n",
    "            })\n",
    "    pd.DataFrame(data).to_csv(os.path.join(folder, \"train.csv\"), index=False)"
   ]
  }
 ],
 "metadata": {
  "kernelspec": {
   "display_name": ".venv",
   "language": "python",
   "name": "python3"
  },
  "language_info": {
   "codemirror_mode": {
    "name": "ipython",
    "version": 3
   },
   "file_extension": ".py",
   "mimetype": "text/x-python",
   "name": "python",
   "nbconvert_exporter": "python",
   "pygments_lexer": "ipython3",
   "version": "3.13.5"
  }
 },
 "nbformat": 4,
 "nbformat_minor": 5
}
