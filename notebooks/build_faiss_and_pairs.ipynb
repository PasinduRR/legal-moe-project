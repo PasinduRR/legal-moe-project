{
 "cells": [
  {
   "cell_type": "code",
   "execution_count": 29,
   "id": "b98ba528",
   "metadata": {},
   "outputs": [],
   "source": [
    "import sys\n",
    "import os\n",
    "\n",
    "# Adjust the path as needed to point to your project root\n",
    "project_root = os.path.abspath(os.path.join(os.getcwd(), \"..\"))  # If notebook is in 'notebooks/'\n",
    "if project_root not in sys.path:\n",
    "    sys.path.insert(0, project_root)\n",
    "\n",
    "# Adjust the import path if your notebook is in a different directory\n",
    "from src.utils import build_faiss_indices, create_similarity_pairs"
   ]
  },
  {
   "cell_type": "code",
   "execution_count": 31,
   "id": "af2c025a",
   "metadata": {},
   "outputs": [],
   "source": [
    "# Set the path to your subdomains directory\n",
    "base_dir = \"../data/subdomains/\""
   ]
  },
  {
   "cell_type": "code",
   "execution_count": 32,
   "id": "df46b7cd",
   "metadata": {},
   "outputs": [
    {
     "name": "stdout",
     "output_type": "stream",
     "text": [
      "Building FAISS indices for all subdomains...\n",
      "FAISS indices built successfully.\n"
     ]
    }
   ],
   "source": [
    "print(\"Building FAISS indices for all subdomains...\")\n",
    "build_faiss_indices(base_dir)\n",
    "print(\"FAISS indices built successfully.\")"
   ]
  },
  {
   "cell_type": "code",
   "execution_count": 33,
   "id": "3ca9120e",
   "metadata": {},
   "outputs": [
    {
     "name": "stdout",
     "output_type": "stream",
     "text": [
      "Creating similarity pairs for all subdomains...\n",
      "Similarity pairs created successfully.\n"
     ]
    }
   ],
   "source": [
    "print(\"Creating similarity pairs for all subdomains...\")\n",
    "create_similarity_pairs(base_dir)\n",
    "print(\"Similarity pairs created successfully.\")"
   ]
  }
 ],
 "metadata": {
  "kernelspec": {
   "display_name": ".venv",
   "language": "python",
   "name": "python3"
  },
  "language_info": {
   "codemirror_mode": {
    "name": "ipython",
    "version": 3
   },
   "file_extension": ".py",
   "mimetype": "text/x-python",
   "name": "python",
   "nbconvert_exporter": "python",
   "pygments_lexer": "ipython3",
   "version": "3.13.5"
  }
 },
 "nbformat": 4,
 "nbformat_minor": 5
}
