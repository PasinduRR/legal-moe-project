{
 "cells": [
  {
   "cell_type": "code",
   "execution_count": 9,
   "id": "fd59083f",
   "metadata": {},
   "outputs": [],
   "source": [
    "# Step 1: Define queries and their expert labels\n",
    "queries = [\n",
    "    # Banking Law\n",
    "    \"What are the requirements for bank licensing?\",\n",
    "    \"How can a foreign bank operate in Sri Lanka?\",\n",
    "    \"What is the minimum capital for a commercial bank?\",\n",
    "    \"What are the rules for suspension of a bank license?\",\n",
    "    \"How is abandoned property in banks handled?\",\n",
    "    # Company Law\n",
    "    \"How do I register a new company?\",\n",
    "    \"What are the duties of company directors?\",\n",
    "    \"How can a company be amalgamated?\",\n",
    "    \"What is the process for winding up a company?\",\n",
    "    \"How are company articles of association amended?\",\n",
    "    # Tax Law\n",
    "    \"How do I file a corporate tax return?\",\n",
    "    \"What is the penalty for late tax payment?\",\n",
    "    \"How are capital gains taxed?\",\n",
    "    \"What are the exemptions under the Inland Revenue Act?\",\n",
    "    \"How is withholding tax calculated?\",\n",
    "    # Arbitration Law\n",
    "    \"What is the arbitration procedure in Sri Lanka?\",\n",
    "    \"How can an arbitral award be enforced?\",\n",
    "    \"What are the grounds for setting aside an arbitration award?\",\n",
    "    # Consumer Law\n",
    "    \"What rights do consumers have against unfair trade practices?\",\n",
    "    \"How can a consumer file a complaint?\",\n",
    "    # Insolvency Law\n",
    "    \"What is the process for declaring bankruptcy?\",\n",
    "    \"How are insolvent estates distributed?\",\n",
    "    # IP Law\n",
    "    \"How do I register a trademark?\",\n",
    "    \"What is the duration of copyright protection?\",\n",
    "    # Negotiable Instruments Law\n",
    "    \"What is a bill of exchange?\",\n",
    "    \"How are promissory notes endorsed?\",\n",
    "    # Securities Law\n",
    "    \"What is insider trading?\",\n",
    "    \"How are securities exchanges regulated?\",\n",
    "    # Trust Law\n",
    "    \"What are the duties of a trustee?\",\n",
    "    # Electronic Transactions Law\n",
    "    \"Are electronic contracts legally valid in Sri Lanka?\",\n",
    "    # Foreign Exchange Law\n",
    "    \"What are the restrictions on foreign currency transactions?\",\n",
    "    # Contract Law\n",
    "    \"What are the essential elements of a valid contract?\",\n",
    "    \"How is a contract terminated?\",\n",
    "    \"What remedies are available for breach of contract?\",\n",
    "    \"What is the difference between void and voidable contracts?\",\n",
    "    \"How does offer and acceptance work in contract formation?\",\n",
    "    \"What is contract law?\"\n",
    "]\n",
    "\n",
    "expert_labels = [\n",
    "    \"banking_law\", \"banking_law\", \"banking_law\", \"banking_law\", \"banking_law\",\n",
    "        \"company_law\", \"company_law\", \"company_law\", \"company_law\", \"company_law\",\n",
    "        \"tax_law\", \"tax_law\", \"tax_law\", \"tax_law\", \"tax_law\",\n",
    "        \"arbitration_law\", \"arbitration_law\", \"arbitration_law\",\n",
    "        \"consumer_law\", \"consumer_law\",\n",
    "        \"insolvency_law\", \"insolvency_law\",\n",
    "        \"ip_law\", \"ip_law\",\n",
    "        \"negotiable_instruments_law\", \"negotiable_instruments_law\",\n",
    "        \"securities_law\", \"securities_law\",\n",
    "        \"trust_law\",\n",
    "        \"electronic_transactions_law\",\n",
    "        \"foreign_exchange_law\",\n",
    "        \"contract_law\", \"contract_law\", \"contract_law\", \"contract_law\", \"contract_law\", \"contract_law\"\n",
    "]\n"
   ]
  },
  {
   "cell_type": "code",
   "execution_count": 10,
   "id": "e32c15c7",
   "metadata": {},
   "outputs": [],
   "source": [
    "from sentence_transformers import SentenceTransformer\n",
    "import numpy as np\n",
    "import os\n",
    "\n",
    "model = SentenceTransformer('all-MiniLM-L6-v2')\n",
    "\n",
    "embedding_paths = []\n",
    "os.makedirs(\"../data/gating_queries\", exist_ok=True)\n",
    "\n",
    "for i, query in enumerate(queries):\n",
    "    emb = model.encode([query])[0]\n",
    "    emb_path = f\"../data/gating_queries/query_{i+1}.embedding.npy\"\n",
    "    np.save(emb_path, emb)\n",
    "    embedding_paths.append(emb_path)\n"
   ]
  },
  {
   "cell_type": "code",
   "execution_count": 11,
   "id": "a7bbf362",
   "metadata": {},
   "outputs": [
    {
     "name": "stdout",
     "output_type": "stream",
     "text": [
      "Saved data/gating_train.csv with 30 examples.\n"
     ]
    }
   ],
   "source": [
    "import pandas as pd\n",
    "\n",
    "data = []\n",
    "for i in range(len(queries)):\n",
    "    data.append({\n",
    "        \"query\": queries[i],\n",
    "        \"query_embedding_path\": embedding_paths[i],\n",
    "        \"expert_label\": expert_labels[i]\n",
    "    })\n",
    "\n",
    "df = pd.DataFrame(data)\n",
    "os.makedirs(\"../data\", exist_ok=True)\n",
    "df.to_csv(\"../data/gating_train.csv\", index=False)\n",
    "print(\"Saved data/gating_train.csv with 30 examples.\")\n"
   ]
  }
 ],
 "metadata": {
  "kernelspec": {
   "display_name": ".venv",
   "language": "python",
   "name": "python3"
  },
  "language_info": {
   "codemirror_mode": {
    "name": "ipython",
    "version": 3
   },
   "file_extension": ".py",
   "mimetype": "text/x-python",
   "name": "python",
   "nbconvert_exporter": "python",
   "pygments_lexer": "ipython3",
   "version": "3.13.5"
  }
 },
 "nbformat": 4,
 "nbformat_minor": 5
}
